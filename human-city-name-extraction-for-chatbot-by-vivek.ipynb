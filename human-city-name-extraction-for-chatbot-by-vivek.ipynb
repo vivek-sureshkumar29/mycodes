{
 "cells": [
  {
   "cell_type": "code",
   "execution_count": 1,
   "id": "7c33a7ff",
   "metadata": {
    "execution": {
     "iopub.execute_input": "2022-12-18T14:32:48.429250Z",
     "iopub.status.busy": "2022-12-18T14:32:48.428573Z",
     "iopub.status.idle": "2022-12-18T14:32:48.436703Z",
     "shell.execute_reply": "2022-12-18T14:32:48.434990Z"
    },
    "papermill": {
     "duration": 0.019981,
     "end_time": "2022-12-18T14:32:48.442810",
     "exception": false,
     "start_time": "2022-12-18T14:32:48.422829",
     "status": "completed"
    },
    "tags": []
   },
   "outputs": [],
   "source": [
    "# Code that can extract city names and human names from a sentence."
   ]
  },
  {
   "cell_type": "code",
   "execution_count": 2,
   "id": "cba06d29",
   "metadata": {
    "execution": {
     "iopub.execute_input": "2022-12-18T14:32:48.451389Z",
     "iopub.status.busy": "2022-12-18T14:32:48.450400Z",
     "iopub.status.idle": "2022-12-18T14:32:50.488363Z",
     "shell.execute_reply": "2022-12-18T14:32:50.486599Z"
    },
    "papermill": {
     "duration": 2.046851,
     "end_time": "2022-12-18T14:32:50.491979",
     "exception": false,
     "start_time": "2022-12-18T14:32:48.445128",
     "status": "completed"
    },
    "tags": []
   },
   "outputs": [],
   "source": [
    "import nltk\n",
    "\n",
    "from nltk import ne_chunk, pos_tag, word_tokenize\n",
    "from nltk.tree import Tree\n",
    "\n",
    "\n",
    "\n",
    "def get_human_names(text):\n",
    "    text = text.title()\n",
    "    \n",
    "    nltk_results = ne_chunk(pos_tag(word_tokenize(text)))\n",
    "    for nltk_result in nltk_results:\n",
    "        if type(nltk_result) == Tree:\n",
    "            name = ''\n",
    "            for nltk_result_leaf in nltk_result.leaves():\n",
    "                name += nltk_result_leaf[0] + ' '\n",
    "            name = name.strip()\n",
    "            return name"
   ]
  },
  {
   "cell_type": "code",
   "execution_count": 3,
   "id": "86bd640f",
   "metadata": {
    "execution": {
     "iopub.execute_input": "2022-12-18T14:32:50.500583Z",
     "iopub.status.busy": "2022-12-18T14:32:50.499990Z",
     "iopub.status.idle": "2022-12-18T14:32:50.854459Z",
     "shell.execute_reply": "2022-12-18T14:32:50.852912Z"
    },
    "papermill": {
     "duration": 0.36217,
     "end_time": "2022-12-18T14:32:50.857329",
     "exception": false,
     "start_time": "2022-12-18T14:32:50.495159",
     "status": "completed"
    },
    "tags": []
   },
   "outputs": [
    {
     "name": "stdout",
     "output_type": "stream",
     "text": [
      "Sam\n"
     ]
    }
   ],
   "source": [
    "name = get_human_names(\"My name is Sam\")\n",
    "print (name)"
   ]
  },
  {
   "cell_type": "code",
   "execution_count": 4,
   "id": "6a17b353",
   "metadata": {
    "execution": {
     "iopub.execute_input": "2022-12-18T14:32:50.864488Z",
     "iopub.status.busy": "2022-12-18T14:32:50.863268Z",
     "iopub.status.idle": "2022-12-18T14:32:50.871999Z",
     "shell.execute_reply": "2022-12-18T14:32:50.870535Z"
    },
    "papermill": {
     "duration": 0.014913,
     "end_time": "2022-12-18T14:32:50.874791",
     "exception": false,
     "start_time": "2022-12-18T14:32:50.859878",
     "status": "completed"
    },
    "tags": []
   },
   "outputs": [
    {
     "name": "stdout",
     "output_type": "stream",
     "text": [
      "Mumbai\n"
     ]
    }
   ],
   "source": [
    "city = get_human_names(\"I live in Mumbai\")\n",
    "print (city)"
   ]
  }
 ],
 "metadata": {
  "kernelspec": {
   "display_name": "Python 3",
   "language": "python",
   "name": "python3"
  },
  "language_info": {
   "codemirror_mode": {
    "name": "ipython",
    "version": 3
   },
   "file_extension": ".py",
   "mimetype": "text/x-python",
   "name": "python",
   "nbconvert_exporter": "python",
   "pygments_lexer": "ipython3",
   "version": "3.7.12"
  },
  "papermill": {
   "default_parameters": {},
   "duration": 13.144205,
   "end_time": "2022-12-18T14:32:51.802134",
   "environment_variables": {},
   "exception": null,
   "input_path": "__notebook__.ipynb",
   "output_path": "__notebook__.ipynb",
   "parameters": {},
   "start_time": "2022-12-18T14:32:38.657929",
   "version": "2.3.4"
  }
 },
 "nbformat": 4,
 "nbformat_minor": 5
}
